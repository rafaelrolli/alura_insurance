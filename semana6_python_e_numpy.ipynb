{
  "nbformat": 4,
  "nbformat_minor": 0,
  "metadata": {
    "colab": {
      "provenance": [],
      "include_colab_link": true
    },
    "kernelspec": {
      "name": "python3",
      "display_name": "Python 3"
    },
    "language_info": {
      "name": "python"
    }
  },
  "cells": [
    {
      "cell_type": "markdown",
      "metadata": {
        "id": "view-in-github",
        "colab_type": "text"
      },
      "source": [
        "<a href=\"https://colab.research.google.com/github/rafaelrolli/alura_insurance/blob/semana6-python-e-numpy/semana6_python_e_numpy.ipynb\" target=\"_parent\"><img src=\"https://colab.research.google.com/assets/colab-badge.svg\" alt=\"Open In Colab\"/></a>"
      ]
    },
    {
      "cell_type": "code",
      "execution_count": 1,
      "metadata": {
        "id": "j6Ni4sN7em_S"
      },
      "outputs": [],
      "source": [
        "import numpy as np"
      ]
    },
    {
      "cell_type": "markdown",
      "source": [
        "### Gerando massa de dados"
      ],
      "metadata": {
        "id": "AR3H5kyVyv2W"
      }
    },
    {
      "cell_type": "code",
      "source": [
        "n = 1000\n",
        "ids_txt = np.arange(n) + 1\n",
        "idades_txt = np.random.randint(low=18, high=80, size=n)\n",
        "sexos_txt = np.random.choice(['M', 'F'], n)\n",
        "estados_civis_txt = np.random.choice(['solteiro', 'casado', 'divorciado', 'viuvo'], n)\n",
        "sinistros_txt = np.random.choice([0, 1], n, p=[.95, .05])\n",
        "premios_txt = np.random.uniform(low=200.0, high=3000.0, size=n).round(2)\n",
        "\n",
        "np.savetxt('ids.txt', ids_txt, fmt='%i')\n",
        "np.savetxt('idades.txt', idades_txt, fmt='%i')\n",
        "np.savetxt('sexos.txt', sexos_txt, fmt='%s')\n",
        "np.savetxt('estados_civis.txt', estados_civis_txt, fmt='%s')\n",
        "np.savetxt('sinistros.txt', sinistros_txt, fmt='%i')\n",
        "np.savetxt('premios.txt', premios_txt, fmt='%f')"
      ],
      "metadata": {
        "id": "9YUBrTjXfsmN"
      },
      "execution_count": 2,
      "outputs": []
    },
    {
      "cell_type": "markdown",
      "source": [
        "### Importando txts"
      ],
      "metadata": {
        "id": "zT0f6C0305Oc"
      }
    },
    {
      "cell_type": "code",
      "source": [
        "ids = np.loadtxt('ids.txt', dtype = int)\n",
        "idades = np.loadtxt('idades.txt', dtype = int)\n",
        "sexos = np.loadtxt('sexos.txt', dtype = str)\n",
        "estados_civis = np.loadtxt('estados_civis.txt', dtype = str)\n",
        "sinistros = np.loadtxt('sinistros.txt', dtype = int)\n",
        "premios = np.loadtxt('premios.txt', dtype = float)\n",
        "\n",
        "clientes = np.array([ids, idades, sexos, estados_civis, sinistros, premios])"
      ],
      "metadata": {
        "id": "udqgi6ACy_rq"
      },
      "execution_count": 3,
      "outputs": []
    },
    {
      "cell_type": "markdown",
      "source": [
        "### Clientes com mais de 30 anos"
      ],
      "metadata": {
        "id": "X-AmMclt0qPC"
      }
    },
    {
      "cell_type": "code",
      "source": [
        "contador = 0\n",
        "for x in idades:\n",
        "  if x > 30:\n",
        "    contador += 1\n",
        "print(contador)"
      ],
      "metadata": {
        "colab": {
          "base_uri": "https://localhost:8080/"
        },
        "id": "q40Q7F6i0FtK",
        "outputId": "d8ecf5ff-1934-4cb6-9bea-2a47e8b802bf"
      },
      "execution_count": 4,
      "outputs": [
        {
          "output_type": "stream",
          "name": "stdout",
          "text": [
            "816\n"
          ]
        }
      ]
    },
    {
      "cell_type": "code",
      "source": [
        "len(idades[idades > 30])"
      ],
      "metadata": {
        "colab": {
          "base_uri": "https://localhost:8080/"
        },
        "id": "4Z1Lreb_1-EU",
        "outputId": "c2523a30-0d16-4a13-dd16-8f19b64b4261"
      },
      "execution_count": 5,
      "outputs": [
        {
          "output_type": "execute_result",
          "data": {
            "text/plain": [
              "816"
            ]
          },
          "metadata": {},
          "execution_count": 5
        }
      ]
    },
    {
      "cell_type": "code",
      "source": [
        "np.count_nonzero(idades > 30)"
      ],
      "metadata": {
        "colab": {
          "base_uri": "https://localhost:8080/"
        },
        "id": "VOvAhZMkt0vW",
        "outputId": "73b5bf2e-1f4c-4c2b-8e4d-c6a8ad618f60"
      },
      "execution_count": 6,
      "outputs": [
        {
          "output_type": "execute_result",
          "data": {
            "text/plain": [
              "816"
            ]
          },
          "metadata": {},
          "execution_count": 6
        }
      ]
    },
    {
      "cell_type": "markdown",
      "source": [
        "### Filtrando clientes sem sinistros e com prêmio maior que 1000"
      ],
      "metadata": {
        "id": "yOStI62E4H6e"
      }
    },
    {
      "cell_type": "code",
      "source": [
        "clientes[:, (clientes[4].astype(float) == 0) & (clientes[5].astype(float) > 1000)]"
      ],
      "metadata": {
        "colab": {
          "base_uri": "https://localhost:8080/"
        },
        "id": "BfuSAeQP4NpV",
        "outputId": "509f1242-e81d-4f08-e6c6-dc5b7356d237"
      },
      "execution_count": 7,
      "outputs": [
        {
          "output_type": "execute_result",
          "data": {
            "text/plain": [
              "array([['2', '3', '4', ..., '997', '998', '1000'],\n",
              "       ['25', '33', '48', ..., '33', '51', '34'],\n",
              "       ['M', 'M', 'F', ..., 'M', 'F', 'M'],\n",
              "       ['viuvo', 'viuvo', 'solteiro', ..., 'divorciado', 'viuvo',\n",
              "        'divorciado'],\n",
              "       ['0', '0', '0', ..., '0', '0', '0'],\n",
              "       ['2969.83', '2031.36', '1436.17', ..., '1482.27', '2787.37',\n",
              "        '1591.48']], dtype='<U32')"
            ]
          },
          "metadata": {},
          "execution_count": 7
        }
      ]
    },
    {
      "cell_type": "markdown",
      "source": [
        "### Classificação por faixa etária"
      ],
      "metadata": {
        "id": "u5GVBpuX89xD"
      }
    },
    {
      "cell_type": "code",
      "source": [
        "contador_faixa_etaria_1 = 0\n",
        "contador_faixa_etaria_2 = 0\n",
        "contador_faixa_etaria_3 = 0\n",
        "contador_faixa_etaria_4 = 0\n",
        "\n",
        "for idade in clientes[1]:\n",
        "  if idade.astype(float) >= 18 and idade.astype(float) <= 30:\n",
        "    contador_faixa_etaria_1 += 1\n",
        "  elif idade.astype(float) >= 31 and idade.astype(float) <= 45:\n",
        "    contador_faixa_etaria_2 += 1\n",
        "  elif idade.astype(float) >= 46 and idade.astype(float) <= 60:\n",
        "    contador_faixa_etaria_3 += 1\n",
        "  else:\n",
        "    contador_faixa_etaria_4 += 1\n",
        "\n",
        "print(f'''\n",
        "Faixa etária 18-30: {contador_faixa_etaria_1}\n",
        "Faixa etária 31-45: {contador_faixa_etaria_2}\n",
        "Faixa etária 45-60: {contador_faixa_etaria_3}\n",
        "Faixa etária mais de 60: {contador_faixa_etaria_4}\n",
        "''')\n"
      ],
      "metadata": {
        "colab": {
          "base_uri": "https://localhost:8080/"
        },
        "id": "LzKU5SMK9AFf",
        "outputId": "d3a3bd38-40d9-4a48-c064-07717d7e668f"
      },
      "execution_count": 8,
      "outputs": [
        {
          "output_type": "stream",
          "name": "stdout",
          "text": [
            "\n",
            "Faixa etária 18-30: 184\n",
            "Faixa etária 31-45: 242\n",
            "Faixa etária 45-60: 261\n",
            "Faixa etária mais de 60: 313\n",
            "\n"
          ]
        }
      ]
    },
    {
      "cell_type": "code",
      "source": [
        "contador_1 = len([idade for idade in clientes[1] if idade.astype(float) >= 18 and idade.astype(float) <= 30])\n",
        "contador_2 = len([idade for idade in clientes[1] if idade.astype(float) >= 31 and idade.astype(float) <= 45])\n",
        "contador_3 = len([idade for idade in clientes[1] if idade.astype(float) >= 46 and idade.astype(float) <= 60])\n",
        "contador_4 = len([idade for idade in clientes[1] if idade.astype(float) > 60])\n",
        "\n",
        "print(f'''\n",
        "Faixa etária 18-30: {contador_1}\n",
        "Faixa etária 31-45: {contador_2}\n",
        "Faixa etária 45-60: {contador_3}\n",
        "Faixa etária mais de 60: {contador_4}\n",
        "''')"
      ],
      "metadata": {
        "colab": {
          "base_uri": "https://localhost:8080/"
        },
        "id": "ME2Hu8jUHm5k",
        "outputId": "1a577dee-e6b8-4bd0-d164-f6703a50731a"
      },
      "execution_count": 9,
      "outputs": [
        {
          "output_type": "stream",
          "name": "stdout",
          "text": [
            "\n",
            "Faixa etária 18-30: 184\n",
            "Faixa etária 31-45: 242\n",
            "Faixa etária 45-60: 261\n",
            "Faixa etária mais de 60: 313\n",
            "\n"
          ]
        }
      ]
    },
    {
      "cell_type": "code",
      "source": [
        "faixa_etaria = ['18-30' if idade.astype(float) >= 18 and idade.astype(float) <= 30 else\n",
        "                '31-45' if idade.astype(float) >= 31 and idade.astype(float) <= 45 else\n",
        "                '46-60' if idade.astype(float) >= 46 and idade.astype(float) <= 60 else\n",
        "                'mais de 60' for idade in clientes[1]]\n",
        "\n",
        "contador_faixa_1 = faixa_etaria.count('18-30')\n",
        "contador_faixa_2 = faixa_etaria.count('31-45')\n",
        "contador_faixa_3 = faixa_etaria.count('46-60')\n",
        "contador_faixa_4 = faixa_etaria.count('mais de 60')\n",
        "\n",
        "print(f'''\n",
        "Faixa etária 18-30: {contador_faixa_1}\n",
        "Faixa etária 31-45: {contador_faixa_2}\n",
        "Faixa etária 45-60: {contador_faixa_3}\n",
        "Faixa etária mais de 60: {contador_faixa_4}\n",
        "''')"
      ],
      "metadata": {
        "colab": {
          "base_uri": "https://localhost:8080/"
        },
        "id": "aCOYlReBImwA",
        "outputId": "37f7491a-7709-4cb4-93aa-9d86cbb3ae8f"
      },
      "execution_count": 10,
      "outputs": [
        {
          "output_type": "stream",
          "name": "stdout",
          "text": [
            "\n",
            "Faixa etária 18-30: 184\n",
            "Faixa etária 31-45: 242\n",
            "Faixa etária 45-60: 261\n",
            "Faixa etária mais de 60: 313\n",
            "\n"
          ]
        }
      ]
    },
    {
      "cell_type": "code",
      "source": [
        "faixas_etarias_unicas = np.unique(faixa_etaria)\n",
        "\n",
        "for x in faixas_etarias_unicas:\n",
        "  print('Faixa etária ' + x + ': ' + str(faixa_etaria.count(x)))"
      ],
      "metadata": {
        "colab": {
          "base_uri": "https://localhost:8080/"
        },
        "id": "_Nz-zj5KxvEX",
        "outputId": "d74cc2c3-be59-4bba-fd36-29ddd02f02eb"
      },
      "execution_count": 11,
      "outputs": [
        {
          "output_type": "stream",
          "name": "stdout",
          "text": [
            "Faixa etária 18-30: 184\n",
            "Faixa etária 31-45: 242\n",
            "Faixa etária 46-60: 261\n",
            "Faixa etária mais de 60: 313\n"
          ]
        }
      ]
    },
    {
      "cell_type": "markdown",
      "source": [
        "### Valor médio do prêmio de acordo com o estado civil"
      ],
      "metadata": {
        "id": "L3AYYkiBwf2m"
      }
    },
    {
      "cell_type": "code",
      "source": [
        "estados_civis_unicos = np.unique(estados_civis)\n",
        "\n",
        "premio_medio_por_estado_civil = [(x, premios[estados_civis == x].mean().round(2)) for x in estados_civis_unicos]\n",
        "\n",
        "for i in premio_medio_por_estado_civil:\n",
        "  print(i[0] + ': ' + str(i[1]))"
      ],
      "metadata": {
        "colab": {
          "base_uri": "https://localhost:8080/"
        },
        "id": "-iy3DZ6Kwl1y",
        "outputId": "2417ff93-d443-4d3f-c837-45abc866e5ca"
      },
      "execution_count": 12,
      "outputs": [
        {
          "output_type": "stream",
          "name": "stdout",
          "text": [
            "casado: 1642.38\n",
            "divorciado: 1661.19\n",
            "solteiro: 1643.62\n",
            "viuvo: 1605.67\n"
          ]
        }
      ]
    },
    {
      "cell_type": "code",
      "source": [
        "estados_civis_unicos = np.unique(estados_civis)\n",
        "\n",
        "for x in estados_civis_unicos:\n",
        "  print(x + ': ' + str(premios[estados_civis == x].mean().round(2)))"
      ],
      "metadata": {
        "colab": {
          "base_uri": "https://localhost:8080/"
        },
        "id": "MZf-jcn0ziE3",
        "outputId": "a147221d-b6ef-4f11-9039-edcb60eeb643"
      },
      "execution_count": 13,
      "outputs": [
        {
          "output_type": "stream",
          "name": "stdout",
          "text": [
            "casado: 1642.38\n",
            "divorciado: 1661.19\n",
            "solteiro: 1643.62\n",
            "viuvo: 1605.67\n"
          ]
        }
      ]
    },
    {
      "cell_type": "markdown",
      "source": [
        "### Clientes que pagam um prêmio superior à média dos prêmios pagos pelos clientes"
      ],
      "metadata": {
        "id": "Nv4HVYJDz8DN"
      }
    },
    {
      "cell_type": "code",
      "source": [
        "premio_pago_medio = premios.mean()\n",
        "clientes[:, clientes[5].astype(float) > premio_pago_medio]"
      ],
      "metadata": {
        "colab": {
          "base_uri": "https://localhost:8080/"
        },
        "id": "6m4UmqEHz_h-",
        "outputId": "28e1120f-f943-46fe-fdee-c14302be2fd5"
      },
      "execution_count": 14,
      "outputs": [
        {
          "output_type": "execute_result",
          "data": {
            "text/plain": [
              "array([['2', '3', '7', ..., '992', '994', '998'],\n",
              "       ['25', '33', '70', ..., '47', '29', '51'],\n",
              "       ['M', 'M', 'M', ..., 'F', 'F', 'F'],\n",
              "       ['viuvo', 'viuvo', 'solteiro', ..., 'casado', 'divorciado',\n",
              "        'viuvo'],\n",
              "       ['0', '0', '0', ..., '0', '0', '0'],\n",
              "       ['2969.83', '2031.36', '2470.83', ..., '2399.02', '2113.05',\n",
              "        '2787.37']], dtype='<U32')"
            ]
          },
          "metadata": {},
          "execution_count": 14
        }
      ]
    }
  ]
}